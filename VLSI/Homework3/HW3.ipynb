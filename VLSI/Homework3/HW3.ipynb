{
 "cells": [
  {
   "cell_type": "markdown",
   "metadata": {},
   "source": [
    "Calvin Passmore\n",
    "\n",
    "ECE 6470\n",
    "\n",
    "# Homework 3\n"
   ]
  },
  {
   "attachments": {},
   "cell_type": "markdown",
   "metadata": {},
   "source": [
    "\n",
    "## Problem 1\n",
    "(10.3) For each of the following sequencing styles, determine the minimum logic\n",
    "contamination delay in each clock cycle (or half-cycle, for two-phase latches). Assume\n",
    "there is zero clock skew.\n",
    "\n",
    "a. Flip-flops\n",
    "\n",
    "b. Two-phase transparent latches with 50% duty cycle clocks\n",
    "\n",
    "c. Two-phase transparent latches with 60 ps of nonoverlap between phases\n",
    "\n",
    "---\n",
    "\n",
    "\n",
    "\n",
    "a. tcd &ge; thold - tccq = 30ps-50ps = -20ps\n",
    "\n",
    "b. tcd &ge; thold - tccq - tnonoverlap = 30ps - 50ps - 0 = -20ps\n",
    "\n",
    "c. tcd &ge; thold - tccq - tnonoverlap = 30ps - 50ps - 60 = -80ps\n",
    "\n",
    "---\n",
    "---\n"
   ]
  },
  {
   "attachments": {},
   "cell_type": "markdown",
   "metadata": {},
   "source": [
    "\n",
    "## Problem 2\n",
    "(10.4) Repeat Exercise 1 if the clock skew between any two elements can be up to 50 ps.\n",
    "\n",
    "---\n",
    "\n",
    "Contamination delay is the 'best case' delay to the start of a signal change, since the clock scew can be <b>up to</b> 50 ps, it could be 0ps. In this case the answers would be the same as Problem 1. However, this isn't an interesting or different problem, so I'm assuming the clock skew <b>is</b> 50ps and switching happens on exactly Vdd/2 or 25ps.\n",
    "\n",
    "a. tcd &ge; thold - tccq + tskew = 30ps - 50ps + 50ps = 30ps\n",
    "\n",
    "b. tcd &ge; thold - tccq - tnonoverlap + tskew = 30 - 50 - 0 + 50 = 30ps\n",
    "\n",
    "c. tcd &ge; thold - tccq - tnonoverlap + tskew = 30 - 50 - 60 + 50 = -30ps\n",
    "\n",
    "---\n",
    "---\n"
   ]
  },
  {
   "attachments": {},
   "cell_type": "markdown",
   "metadata": {},
   "source": [
    "\n",
    "## Problem 3\n",
    "(10.5) Suppose one cycle of logic is particularly critical and the next cycle is nearly\n",
    "empty. Determine the maximum amount of time the first cycle can borrow into the\n",
    "second for each of the following sequencing styles. Assume there is zero clock skew and\n",
    "that the cycle time is 500 ps.\n",
    "\n",
    "a. Flip-flops\n",
    "\n",
    "b. Two-phase transparent latches with 50% duty cycle clocks\n",
    "\n",
    "c. Two-phase transparent latches with 60 ps of nonoverlap between phases\n",
    "\n",
    "---\n",
    "\n",
    "a. tborrow &le; Tc/2 - (tsetup + tnonoverlap) = 500/2 - 65 - 0 = 185ps\n",
    "\n",
    "b. tborrow &le; Tc/2 - (tsetup + tnonoverlap) = 500/2 - 25 - 0 = 225ps\n",
    "\n",
    "c. tborrow &le; Tc/2 - (tsetup + tnonoverlap) = 500/2 - 25 - 60 = 165ps\n",
    "\n",
    "---\n",
    "---\n"
   ]
  },
  {
   "attachments": {},
   "cell_type": "markdown",
   "metadata": {},
   "source": [
    "\n",
    "## Problem 4\n",
    "(10.6) Repeat Exercise 3 if the clock skew between any two elements can be up to 50 ps.\n",
    "\n",
    "---\n",
    "\n",
    "a. tborrow &le; Tc/2 - (tsetup + tnonoverlap) + tskew = 500/2 - 65 - 0 + 50 = 235ps\n",
    "\n",
    "b. tborrow &le; Tc/2 - (tsetup + tnonoverlap) + tskew = 500/2 - 25 - 0 + 50 = 275ps\n",
    "\n",
    "c. tborrow &le; Tc/2 - (tsetup + tnonoverlap) + tskew = 500/2 - 25 - 60 + 50 = 215 ps\n",
    "\n",
    "---\n",
    "---\n"
   ]
  },
  {
   "attachments": {},
   "cell_type": "markdown",
   "metadata": {},
   "source": [
    "\n",
    "## Problem 5\n",
    "(10.8) Consider a flip-flop built from a pair of transparent latches using nonoverlapping clocks. Express the setup time, hold time, and clock-to-Q delay of the flip-flop in terms of the latch timing parameters and tnonoverlap , relative to the rising edge of φ1.\n",
    "\n",
    "---\n",
    "\n",
    "tff_setup = tl_setup + tl_dq\n",
    "\n",
    "tff_hold = tl_hold\n",
    "\n",
    "tff_cq = tl_cq\n",
    "\n",
    "---\n",
    "---\n"
   ]
  },
  {
   "attachments": {},
   "cell_type": "markdown",
   "metadata": {},
   "source": [
    "\n",
    "## Problem 6\n",
    "(10.9) For the path in Figure 10.54, determine which latches borrow time and if any\n",
    "setup time violations occur. Repeat for cycle times of 1200, 1000, and 800 ps. Assume\n",
    "there is zero clock skew and that the latch delays are accounted for in the propagation\n",
    "delay.\n",
    "\n",
    "a. Δ1 = 550 ps; Δ2 = 580 ps; Δ3 = 450 ps; Δ4 = 200 ps\n",
    "\n",
    "b. Δ1 = 300 ps; Δ2 = 600 ps; Δ3 = 400 ps; Δ4 = 550 ps\n",
    "\n",
    "![figure](./figure.png)\n",
    "\n",
    "---\n",
    "\n",
    "a.\n",
    "\n",
    "|                  | 1200 | 1000 | 800\n",
    "|------------------|------|------|-----\n",
    "| Borrow time      | None | 1 would borrow from 2 which would them borrow from 3 which would borrow from 4 | They would all have to borrow from eachother\n",
    "| Setup Violations | None | No setup violations would be present | 1-3 have setup time violations, 4 doesn't on it's own, but when 3 tries to borrow it's time it will result in a violation\n",
    "\n",
    "b.\n",
    "\n",
    "|                  | 1200 | 1000 | 800\n",
    "|------------------|------|------|-----\n",
    "| Borrow time      | None | 2 would borrow 100 from 3, and 4 would borrow from 1 | 2 would borrow from 3 which would borrow from 4 which would borrow from 1\n",
    "| Setup Violations | None | None | 2-4 have setup time violations\n",
    "\n",
    "---\n",
    "---"
   ]
  }
 ],
 "metadata": {
  "kernelspec": {
   "display_name": "Python 3",
   "language": "python",
   "name": "python3"
  },
  "language_info": {
   "name": "python",
   "version": "3.10.6"
  },
  "orig_nbformat": 4,
  "vscode": {
   "interpreter": {
    "hash": "916dbcbb3f70747c44a77c7bcd40155683ae19c65e1c03b4aa3499c5328201f1"
   }
  }
 },
 "nbformat": 4,
 "nbformat_minor": 2
}
