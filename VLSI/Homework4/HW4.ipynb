{
 "cells": [
  {
   "attachments": {},
   "cell_type": "markdown",
   "metadata": {},
   "source": [
    "Calvin Passmore\n",
    "\n",
    "ECE 6470\n",
    "\n",
    "## Homework 4"
   ]
  },
  {
   "attachments": {},
   "cell_type": "markdown",
   "metadata": {},
   "source": [
    "## Problem 1\n",
    "\n",
    "You are synthesizing a chip composed of random logic with an average activity factor of 0.1.\n",
    "You are using a standard cell process with an average switching capacitance of 450 pF/mm2.\n",
    "Estimate the dynamic power consumption of your chip if it has an area of 70 mm2 and runs at 450 MHz at VDD=0.9V.\n",
    "\n",
    "---\n",
    "\n",
    "P<sub>dynamic</sub> = P<sub>switching</sub> + P<sub>shortcircuit</sub>\n",
    "\n",
    "P<sub>shortcircuit</sub> &approx; 0\n",
    "\n",
    "P<sub>switching</sub> = &alpha;C V<sub>DD</sub><sup>2</sup>f"
   ]
  },
  {
   "cell_type": "code",
   "execution_count": 3,
   "metadata": {},
   "outputs": [
    {
     "data": {
      "text/plain": [
       "1.1481750000000002"
      ]
     },
     "execution_count": 3,
     "metadata": {},
     "output_type": "execute_result"
    }
   ],
   "source": [
    "# P switching\n",
    "alpha = 0.1\n",
    "C_A = 450e-12 # pf/mm2\n",
    "A = 70 # mm2\n",
    "C = C_A * A # pf\n",
    "f = 450e6\n",
    "Vdd = 0.9\n",
    "\n",
    "alpha * C * Vdd**2 * f"
   ]
  },
  {
   "attachments": {},
   "cell_type": "markdown",
   "metadata": {},
   "source": [
    "P<sub>dynamic</sub> = 1.148"
   ]
  },
  {
   "attachments": {},
   "cell_type": "markdown",
   "metadata": {},
   "source": [
    "<div style=\"break-after:page\"></div>\n",
    "\n",
    "## Problem 2\n",
    "\n",
    "Determine the activity factor for the signal shown in Figure 5.34. The clock rate is 1 GHz\n",
    "\n",
    "![](./Figure5_3.png)\n",
    "\n",
    "The activity factor is 1/2 because out of 10 clock cycles, 5 of them are high, and 5 are low."
   ]
  },
  {
   "attachments": {},
   "cell_type": "markdown",
   "metadata": {},
   "source": [
    "<div style=\"break-after:page\"></div>\n",
    "\n",
    "## Problem 3\n",
    "\n",
    "Derive the switching probabilities in Table 5.1. \n",
    "\n",
    "| Gate | P<sub>Y</sub> |\n",
    "|------|---------------|\n",
    "| AND2 | P<sub>A</sub>P<sub>B</sub> |\n",
    "| AND3 | P<sub>A</sub>P<sub>B</sub>P<sub>C</sub> |\n",
    "| OR2  | 1 - <span style=\"text-decoration:overline\">P</span><sub>A</sub><span style=\"text-decoration:overline\">P</span><sub>B</sub> |\n",
    "| NAND2 | 1 - P<sub>A</sub>P<sub>B</sub> |\n",
    "| NOR2 |  <span style=\"text-decoration:overline\">P</span><sub>A</sub> <span style=\"text-decoration:overline\">P</span><sub>B</sub> |\n",
    "| XOR2 | P<sub>A</sub><span style=\"text-decoration:overline\">P</span><sub>B</sub> + <span style=\"text-decoration:overline\">P</span><sub>A</sub>P<sub>B</sub>\n",
    "\n",
    "![](./GatePropabilities.jpg)"
   ]
  },
  {
   "attachments": {},
   "cell_type": "markdown",
   "metadata": {},
   "source": [
    "<div style=\"break-after:page\"></div>\n",
    "\n",
    "## Problem 4\n",
    "\n",
    "Construct a table similar to Table 5.2 for a 2-input NOR gate. (Assuming Vs is between A and B PMOS)\n",
    "\n",
    "Ign = 6.3nA Igp = 0\n",
    "\n",
    "Ioffn = 5.6nA Ioffp = 9.3nA\n",
    "\n",
    "| Input State | I<sub>sub</sub> | I<sub>gate</sub> | I<sub>total</sub> | Vx |\n",
    "|-------------|-----------------|------------------|-------------------|----|\n",
    "| 00          |       11.2      |     0            |       11.2        | Stack Effect  |\n",
    "| 01          |       9.3       |     6.3          |       15.6        | Vt |\n",
    "| 10          |       9.3       |     6.3          |       15.6        | 1  |\n",
    "| 11          | &approx;1       |     12.6         |       13.6        | 1  |"
   ]
  }
 ],
 "metadata": {
  "kernelspec": {
   "display_name": "Python 3",
   "language": "python",
   "name": "python3"
  },
  "language_info": {
   "codemirror_mode": {
    "name": "ipython",
    "version": 3
   },
   "file_extension": ".py",
   "mimetype": "text/x-python",
   "name": "python",
   "nbconvert_exporter": "python",
   "pygments_lexer": "ipython3",
   "version": "3.10.6"
  },
  "orig_nbformat": 4
 },
 "nbformat": 4,
 "nbformat_minor": 2
}
