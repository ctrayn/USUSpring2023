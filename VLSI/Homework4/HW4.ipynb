{
 "cells": [
  {
   "attachments": {},
   "cell_type": "markdown",
   "metadata": {},
   "source": [
    "Calvin Passmore\n",
    "\n",
    "ECE 6470\n",
    "\n",
    "## Homework 4"
   ]
  },
  {
   "attachments": {},
   "cell_type": "markdown",
   "metadata": {},
   "source": [
    "## Problem 1\n",
    "\n",
    "You are synthesizing a chip composed of random logic with an average activity factor of 0.1.\n",
    "You are using a standard cell process with an average switching capacitance of 450 pF/mm2.\n",
    "Estimate the dynamic power consumption of your chip if it has an area of 70 mm2 and runs at 450 MHz at VDD=0.9V."
   ]
  },
  {
   "attachments": {},
   "cell_type": "markdown",
   "metadata": {},
   "source": [
    "## Problem 2\n",
    "\n",
    "Determine the activity factor for the signal shown in Figure 5.34. The clock rate is 1 GHz\n",
    "\n",
    "![](./Figure5_3.png)"
   ]
  },
  {
   "attachments": {},
   "cell_type": "markdown",
   "metadata": {},
   "source": [
    "## Problem 3\n",
    "\n",
    "Derive the switching probabilities in Table 5.1. \n",
    "\n",
    "| Gate | P<sub>Y</sub> |\n",
    "|------|---------------|\n",
    "| AND2 | P<sub>A</sub>P<sub>B</sub> |\n",
    "| AND3 | P<sub>A</sub>P<sub>B</sub>P<sub>C</sub> |\n",
    "| OR2  | 1 - <span style=\"text-decoration:overline\">P</span><sub>A</sub><span style=\"text-decoration:overline\">P</span><sub>B</sub> |\n",
    "| NAND2 | 1 - P<sub>A</sub>P<sub>B</sub> |\n",
    "| NOR2 |  <span style=\"text-decoration:overline\">P</span><sub>A</sub> <span style=\"text-decoration:overline\">P</span><sub>B</sub> |\n",
    "| XOR2 | P<sub>A</sub><span style=\"text-decoration:overline\">P</span><sub>B</sub> + <span style=\"text-decoration:overline\">P</span><sub>A</sub>P<sub>B</sub>"
   ]
  },
  {
   "attachments": {},
   "cell_type": "markdown",
   "metadata": {},
   "source": [
    "## Problem 4\n",
    "\n",
    "Construct a table similar to Table 5.2 for a 2-input NOR gate. (Assuming Vs is between A and B PMOS)\n",
    "\n",
    "Ign = 6.3nA Igp = 0\n",
    "\n",
    "Ioffn = 5.6nA Ioffp = 9.3nA\n",
    "\n",
    "| Input State | I<sub>sub</sub> | I<sub>gate</sub> | I<sub>total</sub> | Vx |\n",
    "|-------------|-----------------|------------------|-------------------|----|\n",
    "| 00          |       11.2      |     0            |       11.2        | Stack Effect  |\n",
    "| 01          |       9.3       |     6.3          |       15.6        | Vt |\n",
    "| 10          |       9.3       |     6.3          |       15.6        | 1  |\n",
    "| 11          | &approx;1       |     12.6         |       13.6        | 1  |"
   ]
  }
 ],
 "metadata": {
  "language_info": {
   "name": "python"
  },
  "orig_nbformat": 4
 },
 "nbformat": 4,
 "nbformat_minor": 2
}
