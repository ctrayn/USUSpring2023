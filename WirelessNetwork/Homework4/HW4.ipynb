{
 "cells": [
  {
   "attachments": {},
   "cell_type": "markdown",
   "metadata": {},
   "source": [
    "Calvin Passmore\n",
    "\n",
    "ECE 6600\n",
    "\n",
    "# Homework 4"
   ]
  },
  {
   "attachments": {},
   "cell_type": "markdown",
   "metadata": {},
   "source": [
    "## Problem 1\n",
    "\n",
    "A mobile terminal measures signals from four base stations as a function of time. The\n",
    "times and signal strengths (in dBm) from the samples are given in the table below.\n",
    "Assume the mobile terminal is initially attached to base station 1 (BS1). The mobile\n",
    "and BSC make handoff decisions by considering the signals from the base stations\n",
    "after each sampling time. For example, if just RSS is used, just after t = 2.5s, the mobile\n",
    "terminal would be connected to BS2. Fill in the table below, as to which base station\n",
    "the mobile terminal communicates with at the time points listed. If a condition is met\n",
    "for more than one base station, assume the best one (strongest RSS) is selected.\n",
    "\n",
    "a. Assume Received signal strength (RSS) is used for handoff decision\n",
    "\n",
    "b. RSS + hysteresis of 5 dB + threshold of –55 dBm (i.e., only handoff when\n",
    "current BS RSS drops below –55 dBm and RSS of another BS is 5 dB greater\n",
    "than current BS)\n",
    "\n",
    "| Time [s] | 0 | 2.5 | 5 | 7.5 | 10 | 12.5 | 15 | 17.5 | 20 |\n",
    "|----------|---|-----|---|-----|----|------|----|------|----|\n",
    "| BS<sub>1</sub> | -47 | -57 | -52 | -56 | -60 | -62 | -60 | -65 | -64 |\n",
    "| BS<sub>2</sub> | -59 | -54 | -55 | -54 | -59 | -51 | -49 | -58.5 | -50 |\n",
    "| BS<sub>3</sub> | -70 | -72 | -75 | -70 | -51 | -50 | -60.5 | -62 | -75 |\n",
    "| BS<sub>4</sub> | -72 | -71 | -65 | -60 | -55 | -53 | -50 | -49 | -51 |\n",
    "| Base Station Serving Mobile Terminal |\n",
    "| (a) | BS<sub>1</sub> | BS<sub>2</sub> | BS<sub>1</sub> | BS<sub>2</sub> | BS<sub>3</sub> | BS<sub>3</sub> | BS<sub>2</sub> | BS<sub>4</sub> | BS<sub>2</sub> | \n",
    "| (b) | BS<sub>2</sub> | BS<sub>1</sub> | BS<sub>1</sub> | BS<sub>1</sub> | BS<sub>1</sub> | BS<sub>3</sub> | BS<sub>3</sub> | BS<sub>2</sub> | BS<sub>4</sub> | \n"
   ]
  },
  {
   "attachments": {},
   "cell_type": "markdown",
   "metadata": {},
   "source": [
    "## Problem 2\n",
    "\n",
    "How does the near/far effect influence TDMA systems? \n",
    "\n",
    "- //TODO\n",
    "\n",
    "What happens in CDMA systems?\n",
    "\n",
    "- //TODO\n",
    "\n",
    "What are countermeasures in TDMA systems? \n",
    "\n",
    "- //TODO\n",
    "\n",
    "What about CDMA systems?\n",
    "\n",
    "- //TODO\n"
   ]
  },
  {
   "attachments": {},
   "cell_type": "markdown",
   "metadata": {},
   "source": [
    "## Problem 3\n",
    "\n",
    "Consider a sender A wants to send the data bit 0 with key = 011010. Consider a sender B\n",
    "wants to send the data bit 1 with key = 101001. Assume we code a binary 0 as -1, a binary 1\n",
    "as +1. Both signals are transmitted at the same time. The noise to the transmitted signal is (-\n",
    "2, +2, 0, -2, 0, +2).\n",
    "\n",
    "a. What signal is received at a receiver?\n",
    "\n",
    "b. Can the data sent by A and B be recognized?"
   ]
  },
  {
   "attachments": {},
   "cell_type": "markdown",
   "metadata": {},
   "source": [
    "## Problem 4\n",
    "\n",
    "What is the difference between hard handoff and soft handoff\n",
    "\n",
    "In hard handoffs, the old connection is broken before the new connection is established (break before make).\n",
    "\n",
    "In soft handoffs, the new connection is established before the old connection is broken (make before brake)."
   ]
  }
 ],
 "metadata": {
  "language_info": {
   "name": "python"
  },
  "orig_nbformat": 4
 },
 "nbformat": 4,
 "nbformat_minor": 2
}
