{
 "cells": [
  {
   "attachments": {},
   "cell_type": "markdown",
   "metadata": {},
   "source": [
    "Calvin Passmore\n",
    "\n",
    "ECE 6600\n",
    "\n",
    "# Homework 4"
   ]
  },
  {
   "attachments": {},
   "cell_type": "markdown",
   "metadata": {},
   "source": [
    "## Problem 1\n",
    "\n",
    "A mobile terminal measures signals from four base stations as a function of time. The\n",
    "times and signal strengths (in dBm) from the samples are given in the table below.\n",
    "Assume the mobile terminal is initially attached to base station 1 (BS1). The mobile\n",
    "and BSC make handoff decisions by considering the signals from the base stations\n",
    "after each sampling time. For example, if just RSS is used, just after t = 2.5s, the mobile\n",
    "terminal would be connected to BS2. Fill in the table below, as to which base station\n",
    "the mobile terminal communicates with at the time points listed. If a condition is met\n",
    "for more than one base station, assume the best one (strongest RSS) is selected.\n",
    "\n",
    "a. Assume Received signal strength (RSS) is used for handoff decision\n",
    "\n",
    "b. RSS + hysteresis of 5 dB + threshold of –55 dBm (i.e., only handoff when\n",
    "current BS RSS drops below –55 dBm and RSS of another BS is 5 dB greater\n",
    "than current BS)\n",
    "\n",
    "| Time [s] | 0 | 2.5 | 5 | 7.5 | 10 | 12.5 | 15 | 17.5 | 20 |\n",
    "|----------|---|-----|---|-----|----|------|----|------|----|\n",
    "| BS<sub>1</sub> | -47 | -57 | -52 | -56 | -60 | -62 | -60 | -65 | -64 |\n",
    "| BS<sub>2</sub> | -59 | -54 | -55 | -54 | -59 | -51 | -49 | -58.5 | -50 |\n",
    "| BS<sub>3</sub> | -70 | -72 | -75 | -70 | -51 | -50 | -60.5 | -62 | -75 |\n",
    "| BS<sub>4</sub> | -72 | -71 | -65 | -60 | -55 | -53 | -50 | -49 | -51 |\n",
    "| Base Station Serving Mobile Terminal |\n",
    "| (a) | BS<sub>1</sub> | BS<sub>2</sub> | BS<sub>1</sub> | BS<sub>2</sub> | BS<sub>3</sub> | BS<sub>3</sub> | BS<sub>2</sub> | BS<sub>4</sub> | BS<sub>2</sub> | \n",
    "| (b) | BS<sub>2</sub> | BS<sub>1</sub> | BS<sub>1</sub> | BS<sub>1</sub> | BS<sub>1</sub> | BS<sub>3</sub> | BS<sub>3</sub> | BS<sub>2</sub> | BS<sub>4</sub> | \n"
   ]
  },
  {
   "attachments": {},
   "cell_type": "markdown",
   "metadata": {},
   "source": [
    "## Problem 2\n",
    "\n",
    "How does the near/far effect influence TDMA systems? \n",
    "\n",
    "- As long as the transmitter can get the signal to the receiver during their time slot their is no affect. If the signal propogates too long and arrives at the reciever after the alloted time slot, it can corrupt the transmitted packet as well as the next transmitted packet from another user.\n",
    "\n",
    "What happens in CDMA systems?\n",
    "\n",
    "- If the signal is close and too loud it could drown out other signals, if it is too far away it could get lost as noise in other signals.\n",
    "\n",
    "What are countermeasures in TDMA systems? \n",
    "\n",
    "- The transmitter can adapt transmission power and send signals in advance to compensate for times delays as necessary.\n",
    "\n",
    "What about CDMA systems?\n",
    "\n",
    "- All the users must adapt their transmit power so that no signal is lost, and all signals have relatively the same strength\n"
   ]
  },
  {
   "attachments": {},
   "cell_type": "markdown",
   "metadata": {},
   "source": [
    "## Problem 3\n",
    "\n",
    "Consider a sender A wants to send the data bit 0 with key = 011010. Consider a sender B\n",
    "wants to send the data bit 1 with key = 101001. Assume we code a binary 0 as -1, a binary 1\n",
    "as +1. Both signals are transmitted at the same time. The noise to the transmitted signal is (-\n",
    "2, +2, 0, -2, 0, +2).\n",
    "\n",
    "---\n",
    "\n",
    "a. What signal is received at a receiver?"
   ]
  },
  {
   "cell_type": "code",
   "execution_count": 6,
   "metadata": {},
   "outputs": [
    {
     "name": "stdout",
     "output_type": "stream",
     "text": [
      "[-2, 2, 2, -4, 0, 2]\n"
     ]
    }
   ],
   "source": [
    "A = [-1 if bit == '0' else 1 for bit in \"011010\"]\n",
    "B = [-1 if bit == '0' else 1 for bit in \"101001\"]\n",
    "N = [-2, +2, 0, -2, 0, +2]\n",
    "\n",
    "signal = []\n",
    "for index in range(len(A)):\n",
    "    signal.append(A[index] + B[index] + N[index])\n",
    "\n",
    "print(signal)"
   ]
  },
  {
   "attachments": {},
   "cell_type": "markdown",
   "metadata": {},
   "source": [
    "b. Can the data sent by A and B be recognized?\n",
    "\n",
    "No, the noise is twice as strong as a single signal. This makes it so the signal is lost in the noise"
   ]
  },
  {
   "attachments": {},
   "cell_type": "markdown",
   "metadata": {},
   "source": [
    "## Problem 4\n",
    "\n",
    "What is the difference between hard handoff and soft handoff\n",
    "\n",
    "---\n",
    "\n",
    "In hard handoffs, the old connection is broken before the new connection is established (break before make).\n",
    "\n",
    "In soft handoffs, the new connection is established before the old connection is broken (make before brake)."
   ]
  }
 ],
 "metadata": {
  "kernelspec": {
   "display_name": "Python 3",
   "language": "python",
   "name": "python3"
  },
  "language_info": {
   "codemirror_mode": {
    "name": "ipython",
    "version": 3
   },
   "file_extension": ".py",
   "mimetype": "text/x-python",
   "name": "python",
   "nbconvert_exporter": "python",
   "pygments_lexer": "ipython3",
   "version": "3.10.6"
  },
  "orig_nbformat": 4,
  "vscode": {
   "interpreter": {
    "hash": "916dbcbb3f70747c44a77c7bcd40155683ae19c65e1c03b4aa3499c5328201f1"
   }
  }
 },
 "nbformat": 4,
 "nbformat_minor": 2
}
