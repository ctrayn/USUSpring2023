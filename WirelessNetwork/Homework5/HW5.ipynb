{
 "cells": [
  {
   "attachments": {},
   "cell_type": "markdown",
   "metadata": {},
   "source": [
    "Calvin Passmore\n",
    "\n",
    "ECE 6600\n",
    "\n",
    "# Homework 5\n",
    "\n",
    "## Problme 1\n",
    "\n",
    "Two radio connections are established between four users as shown in Figure 1. User 𝑆1\n",
    "transmits to user 𝑅1, and user 𝑆2 transmits to user 𝑅2. Both 𝑆1 and 𝑆2 use the same\n",
    "transmission power P. A minimum acceptable signal-to-interference ratio (SIR) at a receiver\n",
    "is 10dB. Assume that the propagation model is a power law distance dependence model, that\n",
    "is, 𝑃𝑟 = 𝑐𝑃𝑡𝑑<sup>―𝛼</sup>\n",
    ", where 𝑃𝑡 is the transmitted power, 𝑃𝑟 is the received power, d is the\n",
    "transmitter-receiver separation distance, and α is the propagation loss exponent and c is a\n",
    "constant. Find the minimum distance between 𝑆1 and 𝑅 (𝑑12) such that 𝑆2 achieves acceptable\n",
    "SIR at 𝑅2 if the propagation loss exponent is 2 and 4, respectively. (Express 𝑑12 in terms of the\n",
    "distance𝑑2).\n",
    "\n",
    "---\n",
    "\n",
    "Pr12 = cPtd12^-𝛼\n",
    "Pr1  = cPtd1^-𝛼\n",
    "\n",
    "10 < log(Pr12/Pr1) = log(cPtd12^-𝛼/cPtd1^-𝛼) = log(d12^-𝛼/d1^-𝛼)\n",
    "\n",
    "10/-𝛼 + log(d1) = log(d12)\n",
    "\n",
    "d12 = d1 * 10^(-10/𝛼)"
   ]
  },
  {
   "attachments": {},
   "cell_type": "markdown",
   "metadata": {},
   "source": [
    "## Problem 2\n",
    "\n",
    "Consider a cellular system characterized by C = 500 channels, and a minimum require signal-\n",
    "to-interference ratio (SIR) of 19dB in order to provide acceptable signal quality at a receiver.\n",
    "The cell plan used is a symmetric hexagonal plan. The system under consideration is illustrated\n",
    "in Figure 2. Note here that not all cells are shown in the figure. The shaded hexagons in the\n",
    "figure represent co-channel cells (i.e., the cells using the same set of frequencies). These cells\n",
    "cause so called co-channel interference to any shaded hexagon. The distance between\n",
    "centers of the nearest co-channel cells is denoted with D, and the radius of a cell with R. In a\n",
    "symmetric hexagonal cell plan, each cell has exactly 6 co-channel cells at distance D (see\n",
    "Figure 2). In addition, there are 6 co-channel cells at distance 3𝐷, 6 at distance 4𝐷, 6 at\n",
    "distance 7𝐷, ..., 𝐾𝐷, and so forth, where 𝐾 = 𝑖2 + 𝑗2 +𝑖𝑗, j = 0; 1; 2; 3; ... (Figure 2). Recall\n",
    "that for the hexagonal cell plan, we have the following satisfied: 𝑄 = 3𝑁, where N is the\n",
    "number of cells that divide available channels in unique and disjoint channel groups of\n",
    "approximately the same size. In this problem use the same propagation model as in Problem\n",
    "2. In this problem use the same propagation model as in Problem 1. Also, assume that the\n",
    "network is of infinite size, and that all base stations transmit at the same power P.\n",
    "\n",
    "a. Find an expression for the co-channel interference (SIR) on the downlink channel\n",
    "(from a base station to a terminal) that terminal A in Figure 2 experiences if the\n",
    "propagation loss exponent is 2 and 4, respectively (express SIR in terms of Q=D/R).\n",
    "Assume that all interferers at the same interference tier are at the same distance from\n",
    "the terminal (thus, all the first tier interferers are at distance D from the terminal).\n",
    "What is the problem when α = 2? Why is this not a problem in practice? NOTE: You\n",
    "will also need the following two in infinite sums: 1 + 1\n",
    "3 + 1\n",
    "4 + 1\n",
    "7.... does not converge;\n",
    "1 + 1\n",
    "32 + 1\n",
    "42 + 1\n",
    "72....... = 1.233\n",
    "\n",
    "b. The radio capacity m of a cellular system is defined as the number of users that can\n",
    "be supported in a single cell, that is, m = C/N [radio channels/cell] (for fixed channel\n",
    "allocation). What is the radio capacity m of this cellular system, assuming that α= 4?\n",
    "\n",
    "---\n",
    "\n",
    "a. \n",
    "\n",
    "SIR = Pr0 / &Sigma;<sub>n</sub> Prn R^2 = c Pt0 d0<sup>-&alpha;</sup> / &Sigma;<sub>n</sub> c Pt d<sub>n</sub><sup>-&alpha;</sup> R^2 = d0<sup>-&alpha;</sup> / &Sigma;<sub>n</sub>d<sub>n</sub> R^2\n",
    "\n",
    "when &alpha; = 2\n",
    "\n",
    "d0<sup>-&alpha;</sup> / &Sigma;<sub>n</sub>d<sub>n</sub> = d0<sup>-2</sup> / R^2 (3 + 4 + 7 + ...) which does not converge\n",
    "\n",
    "when &alpha; = -4\n",
    "\n",
    "d0<sup>-&alpha;</sup> / &Sigma;<sub>n</sub>d<sub>n</sub> R^2 = d0<sup>-4</sup> / R^2 (3^2 + 4^2 + 7^2 + ...) = d0<sup>-4</sup> / R^2 (1 - 1.233) = d0<sup>-4</sup> /  R^2 * 0.233\n",
    "\n",
    "There is a problem when &alpha; = 2 because the denominator doesn't converge. This isn't a problem in practive because after a certain distance, the interference isn't large enough to matter.\n",
    "\n",
    "b.\n",
    "\n",
    "C = 500\n",
    "Q = d0<sup>-4</sup> /  R^2 * 0.233\n",
    "N = 3*Q^2\n",
    "\n",
    "m = C / N = C / 3*Q^2 = 500 / ( d0<sup>-4</sup> /  R^2 * 0.233)^2\n"
   ]
  },
  {
   "attachments": {},
   "cell_type": "markdown",
   "metadata": {},
   "source": [
    "## Problem 3\n",
    "\n",
    "If there are 60 subscribers in a cell, 25 making a call an hour for 10 minutes each, 15 making\n",
    "2 calls an hour for 6 minutes each, 10 making 3 calls an hour for 4 minutes each and 10 making\n",
    "5 calls an hour for a minute each, what is the overall traffic intensity and the traffic intensity\n",
    "per user?\n",
    "\n",
    "---"
   ]
  },
  {
   "cell_type": "code",
   "execution_count": 16,
   "metadata": {},
   "outputs": [
    {
     "name": "stdout",
     "output_type": "stream",
     "text": [
      "Overall Traffic intensity 0.16666666666666666\n",
      "Traffic Intensity/User 0.0027777777777777775\n"
     ]
    }
   ],
   "source": [
    "total_minutes_used = (25 * 10) + (15 * 2 * 6) + (10 * 3 * 4) + (10 * 5 * 1)\n",
    "total_minutes_capacity = 60 * 60 # subscribers * minutes\n",
    "\n",
    "intensity = total_minutes_used / total_minutes_capacity\n",
    "intensity_user = intensity / 60\n",
    "\n",
    "print(f'Overall Traffic intensity {intensity}')\n",
    "print(f'Traffic Intensity/User {intensity_user}')\n"
   ]
  },
  {
   "attachments": {},
   "cell_type": "markdown",
   "metadata": {},
   "source": [
    "## Problem 4\n",
    "\n",
    "Assume that a cellular network operator has 600 kHz of spectrum each for the uplink and\n",
    "downlink. With 30 kHz channels an AMPS---like FDMA, and a reuse cluster size of K = 4,\n",
    "determine how many users a cell can support for a 5% call---blocking rate. Assume that each\n",
    "user produces 35mE of load in the busy hour.\n",
    "\n",
    "---\n",
    "\n",
    "1200 kHz = total bandwidth\n",
    "\n",
    "Channel Capacity = w/reuse * log2(1 + SIR)\n",
    "\n",
    "SIR = Prx / (Pinter + Pn) &approx; 10\n",
    "\n",
    "= 1,200,000 / 4 * log2(1 + 10)"
   ]
  },
  {
   "cell_type": "code",
   "execution_count": 13,
   "metadata": {},
   "outputs": [
    {
     "data": {
      "text/plain": [
       "25945.73713977973"
      ]
     },
     "execution_count": 13,
     "metadata": {},
     "output_type": "execute_result"
    }
   ],
   "source": [
    "from math import log2\n",
    "30000 / 4 * log2(11)"
   ]
  },
  {
   "attachments": {},
   "cell_type": "markdown",
   "metadata": {},
   "source": [
    "## Problem 5\n",
    "\n",
    "Suppose a user, Maria, discovers that her private RSA key (d1, n1) is same as the public RSA\n",
    "key (e2, n2) of another user, Frances. In other words, d1 = e2 and n1 = n2. Should Maria\n",
    "consider changing her public and private keys? Explain your answer.\n",
    "\n",
    "---\n",
    "\n",
    "Maria could consider changing her private key; however it would not be necessary. RSA encrypts and decrypts with different keys, so even if someone her private key, they don't know that it's her private key. If someone knew it was her private key then yes she should change it. The fact that her key is on the web somewhere doesn't mean that her messages are vulnerable."
   ]
  },
  {
   "attachments": {},
   "cell_type": "markdown",
   "metadata": {},
   "source": [
    "## Problem 6\n",
    "\n",
    "Break the following columnar transposition cipher. The plaintext is taken from a popular\n",
    "computer textbook, so ''computer'' is a probable word. The plaintext consists entirely of\n",
    "letters (no spaces). The ciphertext is broken up into blocks of five characters for readability.\n",
    "\n",
    "aauan cvlre rurnn dltme aeepb ytust iceat npmey iicgo gorch srsoc\n",
    "nntii imiha oofpa gsivt tpsit lbolr otoex\n"
   ]
  },
  {
   "cell_type": "code",
   "execution_count": 7,
   "metadata": {},
   "outputs": [
    {
     "name": "stdout",
     "output_type": "stream",
     "text": [
      "[['a', 'a', 'u', 'a', 'n', 'c', 'v', 'l', 'r', 'e', 'r', 'u', 'r', 'n', 'n'], ['d', 'l', 't', 'm', 'e', 'a', 'e', 'e', 'p', 'b', 'y', 't', 'u', 's', 't'], ['i', 'c', 'e', 'a', 't', 'n', 'p', 'm', 'e', 'y', 'i', 'i', 'c', 'g', 'o'], ['g', 'o', 'r', 'c', 'h', 's', 'r', 's', 'o', 'c', 'n', 'n', 't', 'i', 'i'], ['i', 'm', 'i', 'h', 'a', 'o', 'o', 'f', 'p', 'a', 'g', 's', 'i', 'v', 't'], ['t', 'p', 's', 'i', 't', 'l', 'b', 'o', 'l', 'r', 'o', 't', 'o', 'e', 'x']]\n",
      "[['a' 'd' 'i' 'g' 'i' 't']\n",
      " ['a' 'l' 'c' 'o' 'm' 'p']\n",
      " ['u' 't' 'e' 'r' 'i' 's']\n",
      " ['a' 'm' 'a' 'c' 'h' 'i']\n",
      " ['n' 'e' 't' 'h' 'a' 't']\n",
      " ['c' 'a' 'n' 's' 'o' 'l']\n",
      " ['v' 'e' 'p' 'r' 'o' 'b']\n",
      " ['l' 'e' 'm' 's' 'f' 'o']\n",
      " ['r' 'p' 'e' 'o' 'p' 'l']\n",
      " ['e' 'b' 'y' 'c' 'a' 'r']\n",
      " ['r' 'y' 'i' 'n' 'g' 'o']\n",
      " ['u' 't' 'i' 'n' 's' 't']\n",
      " ['r' 'u' 'c' 't' 'i' 'o']\n",
      " ['n' 's' 'g' 'i' 'v' 'e']\n",
      " ['n' 't' 'o' 'i' 't' 'x']]\n",
      "(0, 1, 2, 3, 4, 5)adigitalcomputerisamachinethatcansolveproblemsforpeoplebycarryingoutinstructionsgiventoitx\n",
      "Found\n",
      "adigitalcomputerisamachinethatcansolveproblemsforpeoplebycarryingoutinstructionsgiventoitx\n"
     ]
    }
   ],
   "source": [
    "import math\n",
    "import numpy\n",
    "from itertools import permutations\n",
    "\n",
    "def cipher_solve():\n",
    "    cipher = \"aauancvlrerurnndltmeaeepbytusticeatnpmeyiicgogorchsrsocnntiiimihaoofpagsivttpsitlbolrotoex\"\n",
    "    possible_lens = [15]\n",
    "\n",
    "    for row_len in possible_lens:\n",
    "        ## Make a table from the cipher\n",
    "        cipher_table = []\n",
    "        for row in range(math.ceil(len(cipher)/row_len)):\n",
    "            to_append = list(cipher[row*row_len:row*row_len+row_len])\n",
    "            cipher_table.append(to_append)\n",
    "        tran_table = numpy.transpose(cipher_table)\n",
    "        print(cipher_table)\n",
    "        print(tran_table)\n",
    "\n",
    "        possible_orders = permutations(range(len(tran_table[0])))\n",
    "        for index_order in possible_orders:\n",
    "            output_string = ''\n",
    "            for row in tran_table:\n",
    "                for index in index_order:\n",
    "                    output_string += row[index]\n",
    "            print(f'{index_order}{output_string}')\n",
    "            if \"computer\" in output_string:\n",
    "                print(\"Found\")\n",
    "                return output_string\n",
    "    print(\"Not found\")\n",
    "\n",
    "solved = cipher_solve()\n",
    "print(solved)"
   ]
  },
  {
   "attachments": {},
   "cell_type": "markdown",
   "metadata": {},
   "source": [
    "a digital computer is a machine that can solve problems for people by carrying out instructions given to it x"
   ]
  }
 ],
 "metadata": {
  "kernelspec": {
   "display_name": "Python 3",
   "language": "python",
   "name": "python3"
  },
  "language_info": {
   "codemirror_mode": {
    "name": "ipython",
    "version": 3
   },
   "file_extension": ".py",
   "mimetype": "text/x-python",
   "name": "python",
   "nbconvert_exporter": "python",
   "pygments_lexer": "ipython3",
   "version": "3.10.6"
  },
  "orig_nbformat": 4
 },
 "nbformat": 4,
 "nbformat_minor": 2
}
