{
 "cells": [
  {
   "cell_type": "markdown",
   "metadata": {},
   "source": [
    "Calvin Passmore\n",
    "\n",
    "ECE 6600\n",
    "\n",
    "Feb 27, 2023\n",
    "\n",
    "# Homework 2\n",
    "\n",
    "## Problem 1\n",
    "\n",
    "How much is 50mW in dBm? How much is it in dBW\n",
    "\n",
    "---\n",
    "\n",
    "10 log10 (50 mW / 1 mW) = 16.98970 dBm\n",
    "\n",
    "10 log10 (50 mW / 1 W) = -13.01 dBW\n",
    "\n",
    "---\n",
    "---\n",
    "\n",
    "## Problem 2\n",
    "For each carrier frequency given below, determine the received power (in dBm) in free space of  a signal whose transmit power is 4W if the receiver is at distance of 5 km from the transmitter?\n",
    "\n",
    "What is the path loss in dB?\n",
    "\n",
    "a. Cellular Band transmitter: 830 MHz\n",
    "\n",
    "b. PCS Band transmitter: 1880 MHz\n",
    "\n",
    "c. WLAN Band transmitter: 5.5 GHz\n",
    "\n",
    "---\n",
    "\n",
    "Pr_dBm = Pt_dBm -21.98 + 20 log<sub>10</sub>(&lambda;) - 20 log<sub>10</sub>(d)\n",
    "\n",
    "Pt = 4W\n",
    "d = 5000m\n",
    "lambda = c/f\n",
    "\n",
    "a. \n",
    "\n",
    "Pr_dBm = 4 -21.98 + 20 log<sub>10</sub>(c/830M) - 20 log<sub>10</sub>(5000) = -100.8045 dBm\n",
    "\n",
    "b.\n",
    "\n",
    "Pr_dBm = 4 -21.98 + 20 log<sub>10</sub>(c/1880M) - 20 log<sub>10</sub>(5000) = -107.9061 dBm\n",
    "\n",
    "c.\n",
    "\n",
    "Pr_dBm = 4 -21.98 + 20 log<sub>10</sub>(c/5.5G) - 20 log<sub>10</sub>(5000) = -117.2302 dBm\n",
    "\n",
    "---\n",
    "---\n",
    "\n",
    "## Problem 3\n",
    "Consider a mobile phone system cell using a frequency of 900 MHz providing coverage to a urban environment like the downtown of Salt Lake City. The height of the receiver is 2 meters and the cell site antenna is 34 meters tall. The mobile terminal receivers have a sensitivity of –90 dBm. Using the Okumura---Hata propagation model determine what power level the base station must operate at to have a cell coverage radius of 1.6 km.\n",
    "\n",
    "---\n"
   ]
  },
  {
   "cell_type": "code",
   "execution_count": 8,
   "metadata": {},
   "outputs": [
    {
     "name": "stdout",
     "output_type": "stream",
     "text": [
      "218.75992027180678\n"
     ]
    }
   ],
   "source": [
    "from math import log10\n",
    "\n",
    "fc = 900e6\n",
    "hre = 2\n",
    "hte = 34\n",
    "d= 1.6\n",
    "power_limit = -90 # dBm\n",
    "\n",
    "Lp_dB = 69.55 + 26.16*log10(fc) - 13.82 * log10(hte) - 3.2 * (log10(11.75 * hre))**2 - 4.97 + (44.9 - 6.55 * log10(hte)) * log10(d)\n",
    "\n",
    "Lp_dBm = Lp_dB + 30\n",
    "\n",
    "# Needed power\n",
    "Power = Lp_dBm + power_limit\n",
    "\n",
    "print(Power)"
   ]
  },
  {
   "cell_type": "markdown",
   "metadata": {},
   "source": [
    "so 219 dBm is needed\n",
    "\n",
    "---\n",
    "---"
   ]
  },
  {
   "cell_type": "markdown",
   "metadata": {},
   "source": [
    "## Problem 4\n",
    "What is the fading margin if the shadow fading component has a standard deviation  = 8dB and you want to design a system that has 95% coverage at the edge of the cell?\n",
    "\n",
    "---\n",
    "\n",
    "P(X > F) = 0.05\n",
    "\n",
    "F &approx; 13.125\n",
    "\n",
    "---\n",
    "---"
   ]
  },
  {
   "cell_type": "markdown",
   "metadata": {},
   "source": [
    "## Problem 5\n",
    "\n",
    "If you apply that fading margin to the mobile phone system in Problem 3, at what power level must the base station operate?\n",
    "\n",
    "---\n",
    "\n",
    "13.125 + 219 = 232.125 dB\n",
    "\n",
    "---\n",
    "---"
   ]
  },
  {
   "attachments": {},
   "cell_type": "markdown",
   "metadata": {},
   "source": [
    "## Problem 6\n",
    "\n",
    "When is a radio channel \"narrowband\" or \"wideband\"?\n",
    "\n",
    "---\n",
    "\n",
    "A channel is wideband when it's operational bandwidth exceeds the coherence bandwidth, and is narrow band when the operational bandwidth is less than the coherence bandwidth\n",
    "\n",
    "---\n",
    "---"
   ]
  },
  {
   "attachments": {},
   "cell_type": "markdown",
   "metadata": {},
   "source": [
    "## Problem 7\n",
    "\n",
    "A wireless transmission scheme employs 16 QAM and a symbol is sent every millisecond. \n",
    "What is the data rate of the system in kbps?\n",
    "\n",
    "---\n",
    "\n",
    "16 QAM = 4 bits/symbol\n",
    "1000 symbols / sec\n",
    "\n",
    "= 4 kbps\n",
    "\n",
    "---\n",
    "---\n"
   ]
  },
  {
   "attachments": {},
   "cell_type": "markdown",
   "metadata": {},
   "source": [
    "## Problem 8\n",
    "\n",
    "Consider a (48, 36) block error correcting code used in the downlink control channel of a cellular system.\n",
    "This code can correct up to 5 bit errors in a block of 48 bits.\n",
    "\n",
    "a. What is the code rate?\n",
    "\n",
    "b. What is the maximum error burst size that can be tolerated and still have correct reception of the data?\n",
    "\n",
    "c. An error burst is usually caused by time variation of the channel in cellular networks.\n",
    "If the control channel operates at 48 kbps, what is the maximum fade duration (in seconds) that can be tolerated?\n",
    "\n",
    "d. If the 48 bit blocks are buffered until 10 blocks are collected and then they are interleaved and transmitted, what is the maximum error burst size that can be tolerated and still have correct reception of the data?\n",
    "\n",
    "e.  What is the delay incurred in buffering the data for interleaving and de-interleaving at a 48 kbps rate?\n",
    "\n",
    "---\n",
    "\n",
    "a. 3/4 code rate\n",
    "\n",
    "b. A burst size of 4 bits in a single block could be corrected, or if the burst crossed two blocks evenly 8 bits could be corrected.\n",
    "\n",
    "c. 83 us\n",
    "\n",
    "d. 40 bit error burst size\n",
    "\n",
    "e. The delay is 9 ms to wait for the rest of the 9 blocks to be buffered, for a total wait time of 10 ms.\n"
   ]
  },
  {
   "cell_type": "code",
   "execution_count": 6,
   "metadata": {},
   "outputs": [
    {
     "name": "stdout",
     "output_type": "stream",
     "text": [
      "Coding rate 0.75\n",
      "Max fade duration 8.333333333333333e-05 s\n",
      "Total buffering time 0.01 s\n",
      "Delay from extra buffering 0.009000000000000001 s\n"
     ]
    }
   ],
   "source": [
    "# a (n,k) block\n",
    "n = 48\n",
    "k = 36\n",
    "code_rate = k/n\n",
    "print(f\"Coding rate {code_rate}\")\n",
    "\n",
    "# b\n",
    "bits_per_second = 48000\n",
    "max_bit_errors = 4\n",
    "seconds_per_bit = 1/bits_per_second\n",
    "acceptable_fade = max_bit_errors * seconds_per_bit\n",
    "print(f\"Max fade duration {acceptable_fade} s\")\n",
    "\n",
    "# e\n",
    "seconds_per_block = 48 * seconds_per_bit\n",
    "blocks_per_buffer = 10\n",
    "seconds_per_buffer = blocks_per_buffer * seconds_per_block\n",
    "print(f\"Total buffering time {seconds_per_buffer} s\")\n",
    "print(f\"Delay from extra buffering {seconds_per_buffer - seconds_per_block} s\")"
   ]
  },
  {
   "cell_type": "markdown",
   "metadata": {},
   "source": [
    "\n",
    "---\n",
    "---\n"
   ]
  },
  {
   "cell_type": "markdown",
   "metadata": {},
   "source": [
    "\n",
    "## Problem 9\n",
    "\n",
    "Consider a cellular system that uses frequency hopping and has 124 frequency channels of spectrum.\n",
    "The hopping pattern for a user in a cell that has 31 frequency channels assigned to it is shown below.\n",
    "\n",
    "a.  Is the hopping pattern random or cyclic?\n",
    "\n",
    "b. Is this a slow or fast frequency hopping system? Why?\n",
    "\n",
    "---\n",
    "\n",
    "a. The hopping pattern appears to be random, seeing as it never repeats and doesn't follow an obvious pattern\n",
    "\n",
    "b. Fast hopping switches frequencies either every bit or fractions of a bit, the frequencies shown in this problem switch every 2 bits, and are therefore slow hops.\n",
    "\n",
    "---\n",
    "---"
   ]
  }
 ],
 "metadata": {
  "kernelspec": {
   "display_name": "Python 3.10.6 64-bit",
   "language": "python",
   "name": "python3"
  },
  "language_info": {
   "codemirror_mode": {
    "name": "ipython",
    "version": 3
   },
   "file_extension": ".py",
   "mimetype": "text/x-python",
   "name": "python",
   "nbconvert_exporter": "python",
   "pygments_lexer": "ipython3",
   "version": "3.10.6"
  },
  "orig_nbformat": 4,
  "vscode": {
   "interpreter": {
    "hash": "916dbcbb3f70747c44a77c7bcd40155683ae19c65e1c03b4aa3499c5328201f1"
   }
  }
 },
 "nbformat": 4,
 "nbformat_minor": 2
}
