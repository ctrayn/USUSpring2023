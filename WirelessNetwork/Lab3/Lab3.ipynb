{
 "cells": [
  {
   "attachments": {},
   "cell_type": "markdown",
   "metadata": {},
   "source": [
    "Calvin Passmore\n",
    "\n",
    "ECE 6600\n",
    "\n",
    "# Lab 3"
   ]
  },
  {
   "cell_type": "code",
   "execution_count": null,
   "metadata": {},
   "outputs": [],
   "source": [
    "import matplotlib.pyplot as plt\n",
    "from numpy import sqrt\n",
    "\n",
    "def set_base_stations(radius):\n",
    "    stations = [ # For radius of 1000\n",
    "        [0,0],\n",
    "        [ 1.5 * radius,  0.5*sqrt(3)*radius],\n",
    "        [ 1.5 * radius, -0.5*sqrt(3)*radius],\n",
    "        [-1.5 * radius,  0.5*sqrt(3)*radius],\n",
    "        [-1.5 * radius, -0.5*sqrt(3)*radius],\n",
    "        [0,  2*radius],\n",
    "        [0, -2*radius],\n",
    "    ]\n",
    "    return stations\n",
    "\n",
    "# Plot 1\n",
    "REUSE = 1/3\n",
    "PATH_LOSS = 4\n",
    "CELL_RADIUS = [1000, 5000]\n",
    "\n"
   ]
  }
 ],
 "metadata": {
  "kernelspec": {
   "display_name": "Python 3",
   "language": "python",
   "name": "python3"
  },
  "language_info": {
   "name": "python",
   "version": "3.10.6"
  },
  "orig_nbformat": 4
 },
 "nbformat": 4,
 "nbformat_minor": 2
}
