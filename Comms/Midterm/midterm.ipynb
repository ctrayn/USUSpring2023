{
 "cells": [
  {
   "cell_type": "code",
   "execution_count": 9,
   "metadata": {},
   "outputs": [
    {
     "name": "stdout",
     "output_type": "stream",
     "text": [
      "[3.158823529411764, 1.2411764705882353, -4.1764705882352935, -1.6805882352941177]\n",
      "[2.941176470588235, -1.0470588235294116, -2.8999999999999995, -4.770588235294118]\n"
     ]
    }
   ],
   "source": [
    "x = [0.0537, 0.0211, -0.0710, -0.02857]\n",
    "y = [0.05, -0.0178, -0.0493, -0.0811]\n",
    "A = 0.017\n",
    "\n",
    "xp = [i / A for i in x]\n",
    "yp = [i / A for i in y]\n",
    "\n",
    "print(xp)\n",
    "print(yp)"
   ]
  }
 ],
 "metadata": {
  "kernelspec": {
   "display_name": "Python 3",
   "language": "python",
   "name": "python3"
  },
  "language_info": {
   "codemirror_mode": {
    "name": "ipython",
    "version": 3
   },
   "file_extension": ".py",
   "mimetype": "text/x-python",
   "name": "python",
   "nbconvert_exporter": "python",
   "pygments_lexer": "ipython3",
   "version": "3.10.6"
  },
  "orig_nbformat": 4
 },
 "nbformat": 4,
 "nbformat_minor": 2
}
