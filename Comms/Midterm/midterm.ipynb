{
 "cells": [
  {
   "cell_type": "code",
   "execution_count": 7,
   "metadata": {},
   "outputs": [
    {
     "name": "stdout",
     "output_type": "stream",
     "text": [
      "Pb = 9.804960818109911e-08\n",
      "Eb/No = 39\n"
     ]
    }
   ],
   "source": [
    "## Problem 6\n",
    "from math import erfc, log2, sqrt\n",
    "\n",
    "M = 256\n",
    "Pb = 10e-8\n",
    "\n",
    "EbNo = 6\n",
    "Pb_solved = 1\n",
    "while Pb_solved > Pb:\n",
    "    EbNo += 1\n",
    "    Pb_solved = (4 / log2(M)) * ((sqrt(M) - 1) / (sqrt(M))) * erfc(EbNo * 3 * log2(M) / (M - 1))\n",
    "print(f\"Pb = {Pb_solved}\")\n",
    "print(f\"Eb/No = {EbNo}\")\n"
   ]
  },
  {
   "cell_type": "code",
   "execution_count": 56,
   "metadata": {},
   "outputs": [
    {
     "name": "stdout",
     "output_type": "stream",
     "text": [
      "261.03158962285056\n"
     ]
    }
   ],
   "source": [
    "from math import pi, log10\n",
    "f = 4e9\n",
    "wavelength = 3e8/f\n",
    "Teq = 400\n",
    "TeqdB = 10*log10(Teq)\n",
    "Pt = 10\n",
    "PtdB = 10*log10(Pt)\n",
    "Gt = 20 # dB\n",
    "Gr = 20 #dB\n",
    "k = 1.38e-23\n",
    "kdB = 10*log10(k)\n",
    "L = 7\n",
    "LdB = 10*log10(L)\n",
    "\n",
    "other_factors = PtdB + Gt + Gr - TeqdB - kdB + LdB\n",
    "print(other_factors)\n"
   ]
  },
  {
   "cell_type": "code",
   "execution_count": 64,
   "metadata": {},
   "outputs": [
    {
     "name": "stdout",
     "output_type": "stream",
     "text": [
      "1494741.4591402514\n"
     ]
    }
   ],
   "source": [
    "Rb = 12.96e6 * log2(256) / 2\n",
    "CNo = EbNo * Rb\n",
    "CNodB = 10*log10(CNo)\n",
    "squareddB = CNodB - other_factors\n",
    "squared = 10**(squareddB/10)\n",
    "R = wavelength / (4 * pi * sqrt(squared))\n",
    "print(R)"
   ]
  }
 ],
 "metadata": {
  "kernelspec": {
   "display_name": "Python 3",
   "language": "python",
   "name": "python3"
  },
  "language_info": {
   "codemirror_mode": {
    "name": "ipython",
    "version": 3
   },
   "file_extension": ".py",
   "mimetype": "text/x-python",
   "name": "python",
   "nbconvert_exporter": "python",
   "pygments_lexer": "ipython3",
   "version": "3.10.6"
  },
  "orig_nbformat": 4
 },
 "nbformat": 4,
 "nbformat_minor": 2
}
