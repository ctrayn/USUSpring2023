{
 "cells": [
  {
   "attachments": {},
   "cell_type": "markdown",
   "metadata": {},
   "source": [
    "## 6.8 a"
   ]
  },
  {
   "cell_type": "code",
   "execution_count": 7,
   "metadata": {},
   "outputs": [
    {
     "name": "stdout",
     "output_type": "stream",
     "text": [
      "Distance from S0  to S1  = 2.0\n",
      "Distance from S0  to S2  = 4.0\n",
      "Distance from S0  to S3  = 6.0\n",
      "Distance from S0  to S4  = 2.0\n",
      "Distance from S0  to S5  = 2.8284271247461903\n",
      "Distance from S0  to S6  = 4.47213595499958\n",
      "Distance from S0  to S7  = 6.324555320336759\n",
      "Distance from S0  to S8  = 4.0\n",
      "Distance from S0  to S9  = 4.47213595499958\n",
      "Distance from S0  to S10 = 5.656854249492381\n",
      "Distance from S0  to S11 = 7.211102550927978\n",
      "Distance from S0  to S12 = 6.0\n",
      "Distance from S0  to S13 = 6.324555320336759\n",
      "Distance from S0  to S14 = 7.211102550927978\n",
      "Distance from S0  to S15 = 8.48528137423857\n"
     ]
    }
   ],
   "source": [
    "# 6.8a\n",
    "from math import sqrt\n",
    "\n",
    "ORIG = ([0,0], \"ORIGIN\")\n",
    "S0  = ([-3,  3], \"S0 \")\n",
    "S1  = ([-1,  3], \"S1 \")\n",
    "S2  = ([ 1,  3], \"S2 \")\n",
    "S3  = ([ 3,  3], \"S3 \")\n",
    "S4  = ([-3,  1], \"S4 \")\n",
    "S5  = ([-1,  1], \"S5 \")\n",
    "S6  = ([ 1,  1], \"S6 \")\n",
    "S7  = ([ 3,  1], \"S7 \")\n",
    "S8  = ([-3, -1], \"S8 \")\n",
    "S9  = ([-1, -1], \"S9 \")\n",
    "S10 = ([ 1, -1], \"S10\")\n",
    "S11 = ([ 3, -1], \"S11\")\n",
    "S12 = ([-3, -3], \"S12\")\n",
    "S13 = ([-1, -3], \"S13\")\n",
    "S14 = ([ 1, -3], \"S14\")\n",
    "S15 = ([ 3, -3], \"S15\")\n",
    "\n",
    "def get_distance(start, end):\n",
    "    \"\"\"Put one Sx into start and a list of the rest of Sx's into end\"\"\"\n",
    "    for end_point in end:\n",
    "        distance = sqrt((start[0][0] - end_point[0][0])**2 + (start[0][1] - end_point[0][1])**2)\n",
    "        print(f\"Distance from {start[1]:3} to {end_point[1]:3} = {distance}\")\n",
    "\n",
    "get_distance(S0, [S1, S2, S3, S4, S5, S6, S7, S8, S9, S10, S11, S12, S13, S14, S15])\n"
   ]
  },
  {
   "cell_type": "code",
   "execution_count": 8,
   "metadata": {},
   "outputs": [
    {
     "name": "stdout",
     "output_type": "stream",
     "text": [
      "Distance from ORIGIN to S0  = 4.242640687119285\n",
      "Distance from ORIGIN to S1  = 3.1622776601683795\n",
      "Distance from ORIGIN to S2  = 3.1622776601683795\n",
      "Distance from ORIGIN to S3  = 4.242640687119285\n",
      "Distance from ORIGIN to S4  = 3.1622776601683795\n",
      "Distance from ORIGIN to S5  = 1.4142135623730951\n",
      "Distance from ORIGIN to S6  = 1.4142135623730951\n",
      "Distance from ORIGIN to S7  = 3.1622776601683795\n",
      "Distance from ORIGIN to S8  = 3.1622776601683795\n",
      "Distance from ORIGIN to S9  = 1.4142135623730951\n",
      "Distance from ORIGIN to S10 = 1.4142135623730951\n",
      "Distance from ORIGIN to S11 = 3.1622776601683795\n",
      "Distance from ORIGIN to S12 = 4.242640687119285\n",
      "Distance from ORIGIN to S13 = 3.1622776601683795\n",
      "Distance from ORIGIN to S14 = 3.1622776601683795\n",
      "Distance from ORIGIN to S15 = 4.242640687119285\n"
     ]
    }
   ],
   "source": [
    "\n",
    "get_distance(ORIG, [S0, S1, S2, S3, S4, S5, S6, S7, S8, S9, S10, S11, S12, S13, S14, S15])\n"
   ]
  },
  {
   "cell_type": "code",
   "execution_count": 9,
   "metadata": {},
   "outputs": [
    {
     "name": "stdout",
     "output_type": "stream",
     "text": [
      "Distance from S1  to S0  = 2.0\n",
      "Distance from S1  to S2  = 2.0\n",
      "Distance from S1  to S3  = 4.0\n",
      "Distance from S1  to S4  = 2.8284271247461903\n",
      "Distance from S1  to S5  = 2.0\n",
      "Distance from S1  to S6  = 2.8284271247461903\n",
      "Distance from S1  to S7  = 4.47213595499958\n",
      "Distance from S1  to S8  = 4.47213595499958\n",
      "Distance from S1  to S9  = 4.0\n",
      "Distance from S1  to S10 = 4.47213595499958\n",
      "Distance from S1  to S11 = 5.656854249492381\n",
      "Distance from S1  to S12 = 6.324555320336759\n",
      "Distance from S1  to S13 = 6.0\n",
      "Distance from S1  to S14 = 6.324555320336759\n",
      "Distance from S1  to S15 = 7.211102550927978\n"
     ]
    }
   ],
   "source": [
    "get_distance(S1, [S0, S2, S3, S4, S5, S6, S7, S8, S9, S10, S11, S12, S13, S14, S15])"
   ]
  },
  {
   "cell_type": "code",
   "execution_count": 10,
   "metadata": {},
   "outputs": [
    {
     "name": "stdout",
     "output_type": "stream",
     "text": [
      "Distance from S5  to S0  = 2.8284271247461903\n",
      "Distance from S5  to S1  = 2.0\n",
      "Distance from S5  to S2  = 2.8284271247461903\n",
      "Distance from S5  to S3  = 4.47213595499958\n",
      "Distance from S5  to S4  = 2.0\n",
      "Distance from S5  to S6  = 2.0\n",
      "Distance from S5  to S7  = 4.0\n",
      "Distance from S5  to S8  = 2.8284271247461903\n",
      "Distance from S5  to S9  = 2.0\n",
      "Distance from S5  to S10 = 2.8284271247461903\n",
      "Distance from S5  to S11 = 4.47213595499958\n",
      "Distance from S5  to S12 = 4.47213595499958\n",
      "Distance from S5  to S13 = 4.0\n",
      "Distance from S5  to S14 = 4.47213595499958\n",
      "Distance from S5  to S15 = 5.656854249492381\n"
     ]
    }
   ],
   "source": [
    "get_distance(S5, [S0, S1, S2, S3, S4, S6, S7, S8, S9, S10, S11, S12, S13, S14, S15])"
   ]
  }
 ],
 "metadata": {
  "kernelspec": {
   "display_name": "Python 3",
   "language": "python",
   "name": "python3"
  },
  "language_info": {
   "codemirror_mode": {
    "name": "ipython",
    "version": 3
   },
   "file_extension": ".py",
   "mimetype": "text/x-python",
   "name": "python",
   "nbconvert_exporter": "python",
   "pygments_lexer": "ipython3",
   "version": "3.10.6"
  },
  "orig_nbformat": 4,
  "vscode": {
   "interpreter": {
    "hash": "916dbcbb3f70747c44a77c7bcd40155683ae19c65e1c03b4aa3499c5328201f1"
   }
  }
 },
 "nbformat": 4,
 "nbformat_minor": 2
}
